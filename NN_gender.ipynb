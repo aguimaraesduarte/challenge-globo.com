{
 "cells": [
  {
   "cell_type": "code",
   "execution_count": 1,
   "metadata": {
    "collapsed": false
   },
   "outputs": [
    {
     "name": "stderr",
     "output_type": "stream",
     "text": [
      "Using Theano backend.\n"
     ]
    }
   ],
   "source": [
    "import numpy as np\n",
    "import pandas as pd\n",
    "from keras.models import Sequential\n",
    "from keras.layers import Dense, Dropout, Activation\n",
    "from keras.regularizers import l2"
   ]
  },
  {
   "cell_type": "code",
   "execution_count": 2,
   "metadata": {
    "collapsed": false
   },
   "outputs": [],
   "source": [
    "# Read file\n",
    "merged = pd.read_csv(\"merged_full.csv\")\n",
    "merged = merged.drop([\"UserId\", \"DOB\", \"State\"], 1)"
   ]
  },
  {
   "cell_type": "code",
   "execution_count": 9,
   "metadata": {
    "collapsed": false
   },
   "outputs": [],
   "source": [
    "# Keep only columns that have more than 5 profiles that visited\n",
    "merged = merged.loc[:, merged.sum(0) > 5]"
   ]
  },
  {
   "cell_type": "code",
   "execution_count": 11,
   "metadata": {
    "collapsed": false
   },
   "outputs": [],
   "source": [
    "# Keep only rows that have visited more than 5 URLs\n",
    "merged = merged.loc[merged.sum(1) > 5, :]"
   ]
  },
  {
   "cell_type": "code",
   "execution_count": 12,
   "metadata": {
    "collapsed": false
   },
   "outputs": [
    {
     "name": "stdout",
     "output_type": "stream",
     "text": [
      "10267 3087\n"
     ]
    }
   ],
   "source": [
    "# Check number of observations per gender. The set is unbalanced!\n",
    "# By predicting always \"M\", we will have ~75% accuracy.\n",
    "males = merged[merged[\"Gender\"] == \"M\"]\n",
    "females = merged[merged[\"Gender\"] == \"F\"]\n",
    "print males.shape[0], females.shape[0]"
   ]
  },
  {
   "cell_type": "code",
   "execution_count": 30,
   "metadata": {
    "collapsed": false
   },
   "outputs": [],
   "source": [
    "# Make training set balanced\n",
    "males_samp = males.sample(n=females.shape[0], axis=0)"
   ]
  },
  {
   "cell_type": "code",
   "execution_count": 31,
   "metadata": {
    "collapsed": false
   },
   "outputs": [],
   "source": [
    "# Make training set\n",
    "train = pd.concat([males_samp, females], ignore_index=True)"
   ]
  },
  {
   "cell_type": "code",
   "execution_count": 32,
   "metadata": {
    "collapsed": true
   },
   "outputs": [],
   "source": [
    "# Shuffle training set\n",
    "train = train.sample(frac=1).reset_index(drop=True)"
   ]
  },
  {
   "cell_type": "code",
   "execution_count": 135,
   "metadata": {
    "collapsed": false
   },
   "outputs": [],
   "source": [
    "#train = merged[merged[\"Gender\"].isin([\"M\", \"F\"])]"
   ]
  },
  {
   "cell_type": "code",
   "execution_count": 33,
   "metadata": {
    "collapsed": false
   },
   "outputs": [],
   "source": [
    "# Make testing set\n",
    "test = merged[merged[\"Gender\"] == \" \"]"
   ]
  },
  {
   "cell_type": "code",
   "execution_count": 34,
   "metadata": {
    "collapsed": false
   },
   "outputs": [],
   "source": [
    "# Create training responses\n",
    "train_X = train.drop(\"Gender\", 1)\n",
    "train_Y = train[\"Gender\"]"
   ]
  },
  {
   "cell_type": "code",
   "execution_count": 35,
   "metadata": {
    "collapsed": false
   },
   "outputs": [],
   "source": [
    "# Convert to binary matrix\n",
    "train_x = train_X.as_matrix()\n",
    "train_y = train_Y.apply(lambda x: 1 if x == \"M\" else 0)"
   ]
  },
  {
   "cell_type": "code",
   "execution_count": 36,
   "metadata": {
    "collapsed": false
   },
   "outputs": [],
   "source": [
    "# Drop 'Gender' information from testing set (it's what we want to predict)\n",
    "test_X = test.drop(\"Gender\", 1)"
   ]
  },
  {
   "cell_type": "code",
   "execution_count": 37,
   "metadata": {
    "collapsed": false
   },
   "outputs": [],
   "source": [
    "# Convert to binary matrix\n",
    "test_x = test_X.as_matrix()"
   ]
  },
  {
   "cell_type": "code",
   "execution_count": 38,
   "metadata": {
    "collapsed": false
   },
   "outputs": [],
   "source": [
    "# Get number of columns to use as input dimension for the NN\n",
    "num_dim = train_X.shape[1]"
   ]
  },
  {
   "cell_type": "code",
   "execution_count": 39,
   "metadata": {
    "collapsed": true
   },
   "outputs": [],
   "source": [
    "# 3 hidden layers NN model\n",
    "def get_3nn_model(lr=0.001, M1=300, w1=0.2, M2=240, w2=0.2, M3=200, w3=0.2, w=0.1):\n",
    "    model = Sequential()\n",
    "    model.add(Dense(M1, input_dim=num_dim, kernel_initializer='normal', activation='relu', kernel_regularizer=l2(w)))\n",
    "    model.add(Dropout(w1))\n",
    "    model.add(Dense(M2, input_dim=num_dim, activation='relu'))\n",
    "    model.add(Dropout(w2))\n",
    "    model.add(Dense(M3, input_dim=num_dim, activation='relu'))\n",
    "    model.add(Dropout(w3))\n",
    "    model.add(Dense(1, activation='sigmoid'))\n",
    "    model.compile(optimizer='adam',\n",
    "               loss='binary_crossentropy',\n",
    "               metrics=['accuracy'])\n",
    "    model.optimizer.lr.set_value(lr)\n",
    "    return model"
   ]
  },
  {
   "cell_type": "code",
   "execution_count": 40,
   "metadata": {
    "collapsed": false
   },
   "outputs": [],
   "source": [
    "# Create model\n",
    "model = get_3nn_model()"
   ]
  },
  {
   "cell_type": "code",
   "execution_count": 41,
   "metadata": {
    "collapsed": false
   },
   "outputs": [
    {
     "name": "stdout",
     "output_type": "stream",
     "text": [
      "_________________________________________________________________\n",
      "Layer (type)                 Output Shape              Param #   \n",
      "=================================================================\n",
      "dense_5 (Dense)              (None, 300)               26100     \n",
      "_________________________________________________________________\n",
      "dropout_4 (Dropout)          (None, 300)               0         \n",
      "_________________________________________________________________\n",
      "dense_6 (Dense)              (None, 240)               72240     \n",
      "_________________________________________________________________\n",
      "dropout_5 (Dropout)          (None, 240)               0         \n",
      "_________________________________________________________________\n",
      "dense_7 (Dense)              (None, 200)               48200     \n",
      "_________________________________________________________________\n",
      "dropout_6 (Dropout)          (None, 200)               0         \n",
      "_________________________________________________________________\n",
      "dense_8 (Dense)              (None, 1)                 201       \n",
      "=================================================================\n",
      "Total params: 146,741\n",
      "Trainable params: 146,741\n",
      "Non-trainable params: 0\n",
      "_________________________________________________________________\n"
     ]
    }
   ],
   "source": [
    "# Get summar information about model\n",
    "model.summary()"
   ]
  },
  {
   "cell_type": "code",
   "execution_count": 46,
   "metadata": {
    "collapsed": false
   },
   "outputs": [
    {
     "name": "stdout",
     "output_type": "stream",
     "text": [
      "Train on 4939 samples, validate on 1235 samples\n",
      "Epoch 1/10\n",
      "6s - loss: 0.6954 - acc: 0.5758 - val_loss: 0.6864 - val_acc: 0.5992\n",
      "Epoch 2/10\n",
      "6s - loss: 0.6892 - acc: 0.5801 - val_loss: 0.6981 - val_acc: 0.5522\n",
      "Epoch 3/10\n",
      "7s - loss: 0.6934 - acc: 0.5827 - val_loss: 0.6899 - val_acc: 0.5757\n",
      "Epoch 4/10\n",
      "6s - loss: 0.6947 - acc: 0.5821 - val_loss: 0.6930 - val_acc: 0.5789\n",
      "Epoch 5/10\n",
      "7s - loss: 0.6941 - acc: 0.5785 - val_loss: 0.6943 - val_acc: 0.5595\n",
      "Epoch 6/10\n",
      "6s - loss: 0.6869 - acc: 0.5874 - val_loss: 0.6936 - val_acc: 0.5684\n",
      "Epoch 7/10\n",
      "6s - loss: 0.6887 - acc: 0.5880 - val_loss: 0.6906 - val_acc: 0.5749\n",
      "Epoch 8/10\n",
      "6s - loss: 0.6867 - acc: 0.5799 - val_loss: 0.6920 - val_acc: 0.5684\n",
      "Epoch 9/10\n",
      "7s - loss: 0.6886 - acc: 0.5791 - val_loss: 0.6999 - val_acc: 0.5789\n",
      "Epoch 10/10\n",
      "7s - loss: 0.6864 - acc: 0.5870 - val_loss: 0.6974 - val_acc: 0.5611\n"
     ]
    },
    {
     "data": {
      "text/plain": [
       "<keras.callbacks.History at 0x12b42b1d0>"
      ]
     },
     "execution_count": 46,
     "metadata": {},
     "output_type": "execute_result"
    }
   ],
   "source": [
    "# Fit for a few epochs, see how it performs\n",
    "model.fit(train_x, train_y, epochs=10, batch_size=10, verbose=2, validation_split=0.2)"
   ]
  },
  {
   "cell_type": "code",
   "execution_count": 43,
   "metadata": {
    "collapsed": false
   },
   "outputs": [],
   "source": [
    "# Create predictions\n",
    "predictions = model.predict(test_x)"
   ]
  },
  {
   "cell_type": "code",
   "execution_count": 44,
   "metadata": {
    "collapsed": true
   },
   "outputs": [],
   "source": [
    "# Convert predictions back to \"M\" and \"F\"\n",
    "rounded = [\"M\" if round(x[0]) == 1.0 else \"F\" for x in predictions]"
   ]
  },
  {
   "cell_type": "code",
   "execution_count": 45,
   "metadata": {
    "collapsed": false
   },
   "outputs": [
    {
     "name": "stdout",
     "output_type": "stream",
     "text": [
      "'M': 2810\n",
      "'F': 3012\n"
     ]
    }
   ],
   "source": [
    "print \"'M':\",  sum([elem == \"M\" for elem in rounded])\n",
    "print \"'F':\", sum([elem == \"F\" for elem in rounded])"
   ]
  },
  {
   "cell_type": "code",
   "execution_count": null,
   "metadata": {
    "collapsed": true
   },
   "outputs": [],
   "source": []
  }
 ],
 "metadata": {
  "anaconda-cloud": {},
  "kernelspec": {
   "display_name": "Python [default]",
   "language": "python",
   "name": "python2"
  },
  "language_info": {
   "codemirror_mode": {
    "name": "ipython",
    "version": 2
   },
   "file_extension": ".py",
   "mimetype": "text/x-python",
   "name": "python",
   "nbconvert_exporter": "python",
   "pygments_lexer": "ipython2",
   "version": "2.7.12"
  }
 },
 "nbformat": 4,
 "nbformat_minor": 1
}
